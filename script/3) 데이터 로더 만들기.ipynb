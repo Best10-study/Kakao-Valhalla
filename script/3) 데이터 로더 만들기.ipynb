{
 "cells": [
  {
   "cell_type": "markdown",
   "metadata": {},
   "source": [
    "## Objective\n",
    "\n",
    "    .h5파일은 좋지만, Pandas가 좀 더 편하다. 매번 .h5파일에서 읽어와서 pandas.DataFrame으로 바꾸는 건 곤욕이다. 이걸 좀더 편하게 해주는 코드를 만들어보자\n",
    "    "
   ]
  },
  {
   "cell_type": "markdown",
   "metadata": {},
   "source": [
    ".h5파일에서 pandas처럼 바로 불러오는 Wrapper Class를 만드는게 목표이다. "
   ]
  },
  {
   "cell_type": "code",
   "execution_count": 1,
   "metadata": {},
   "outputs": [],
   "source": [
    "import h5py\n",
    "import pandas as pd\n",
    "import numpy as np"
   ]
  },
  {
   "cell_type": "markdown",
   "metadata": {},
   "source": [
    "일단 만들어진 코드가 어떻게 돌아가는지를 보면 다음과 같다"
   ]
  },
  {
   "cell_type": "code",
   "execution_count": 2,
   "metadata": {},
   "outputs": [],
   "source": [
    "import sys\n",
    "sys.path.append(\"../\")\n",
    "from valhalla.extract import DataExtractor"
   ]
  },
  {
   "cell_type": "code",
   "execution_count": 3,
   "metadata": {},
   "outputs": [],
   "source": [
    "# 전처리된 .h5 파일을 불러옴\n",
    "dl = DataExtractor(\"../data/prep/textOnly.h5\",'train')"
   ]
  },
  {
   "cell_type": "markdown",
   "metadata": {},
   "source": [
    "카카오의 데이터는 매우 크다. 그래서 메모리에 모두 올리는 건 매우 부담스럽다. \n",
    "\n",
    "그렇다면, hdf5에서 필요한 부분만 호출해서 올리는게 어떨까? 원래 hdf5의 설계 자체가 DB처럼\n",
    "빠르게 파일에서 필요한 부분만 호출할 수 있도록 만들어졌다. 그래서 램보다는 느리지만, 그래도 제법 빠른 속도로 파일을 입출력 할 수 있다.\n",
    "\n",
    "그런데, hdf5파일을 다루기 위해서는 h5py로 코드를 처리해야 한다. 제법 API가 잘 짜여져 있지만, 그래도 코드가 마냥 Simple하지만은 않다. 그래서 마치 DataFrame처럼 호출해서 가져올 수 있는 클래스를 만들고자 한다. "
   ]
  },
  {
   "cell_type": "markdown",
   "metadata": {},
   "source": [
    "### 사용법은 아래와 같다"
   ]
  },
  {
   "cell_type": "markdown",
   "metadata": {},
   "source": [
    "사용법은 pandas의 index방식을 모방해서 만들었는데, 살짝 다르게 설계되었다."
   ]
  },
  {
   "cell_type": "markdown",
   "metadata": {},
   "source": [
    "#### 1) Call by Column"
   ]
  },
  {
   "cell_type": "code",
   "execution_count": 4,
   "metadata": {},
   "outputs": [
    {
     "data": {
      "text/plain": [
       "0    Q4081781803\n",
       "1    W4203425504\n",
       "2    G4453903364\n",
       "3    U4418629259\n",
       "4    I4066071748\n",
       "5    J4586931195\n",
       "6    F4662379886\n",
       "7    O3764058858\n",
       "8    J3959473240\n",
       "9    K4487826783\n",
       "Name: pid, dtype: object"
      ]
     },
     "execution_count": 4,
     "metadata": {},
     "output_type": "execute_result"
    }
   ],
   "source": [
    "dl['pid'][:10]"
   ]
  },
  {
   "cell_type": "markdown",
   "metadata": {},
   "source": [
    "#### 2) Call by Column and index"
   ]
  },
  {
   "cell_type": "code",
   "execution_count": 5,
   "metadata": {},
   "outputs": [
    {
     "data": {
      "text/plain": [
       "0    W4100190891\n",
       "Name: pid, dtype: object"
      ]
     },
     "execution_count": 5,
     "metadata": {},
     "output_type": "execute_result"
    }
   ],
   "source": [
    "dl['pid',10]"
   ]
  },
  {
   "cell_type": "markdown",
   "metadata": {},
   "source": [
    "#### 3) call by Column and slice"
   ]
  },
  {
   "cell_type": "code",
   "execution_count": 6,
   "metadata": {},
   "outputs": [
    {
     "data": {
      "text/plain": [
       "0    U4418629259\n",
       "1    I4066071748\n",
       "2    J4586931195\n",
       "3    F4662379886\n",
       "Name: pid, dtype: object"
      ]
     },
     "execution_count": 6,
     "metadata": {},
     "output_type": "execute_result"
    }
   ],
   "source": [
    "dl[\"pid\",3:7]"
   ]
  },
  {
   "cell_type": "markdown",
   "metadata": {},
   "source": [
    "#### 4) call string by Column\n",
    "\n",
    "hdf5에서 가져올 때 기본적으로 byte 형태로 출력된다. 이를 dataloader에서는 받아서, utf-8로 디코딩을 해서 출력해주게 된다. "
   ]
  },
  {
   "cell_type": "code",
   "execution_count": 7,
   "metadata": {},
   "outputs": [
    {
     "data": {
      "text/plain": [
       "0    마우스 Wireless Mouse 2.4GHz game Ergonomic Desig...\n",
       "1    [SB몰]스페리 Top-Sider Songfish Python 여성 Flats & ...\n",
       "2         (1553)CRG-309 재생토너 캐논 LBP-5250K/5350K/6525K/\n",
       "3                     중성펜/젤러펜 필기구 볼펜류 볼펜심제브라 Refill SK\n",
       "4                   마이비 마이비  무형광 아기세탁망 원형 M (45cm)/빨래망\n",
       "5                      031-893-8020 평택안중백병원장례식장 화환추천BZ\n",
       "6                              스카치 초강력 폼양면 테이프 (대) 다용도\n",
       "7    Continental CrossContact LX 스포츠 275/45R21 110W...\n",
       "8                  [롯데백화점][에트로]토트 겸 숄더백 1H558-8259-150\n",
       "9       [KB 5% 청구할인]LG 옵티머스G3 스크린 House 젤리 핸드폰케이스 F490\n",
       "Name: product, dtype: object"
      ]
     },
     "execution_count": 7,
     "metadata": {},
     "output_type": "execute_result"
    }
   ],
   "source": [
    "dl[\"product\",:10]"
   ]
  },
  {
   "cell_type": "markdown",
   "metadata": {},
   "source": [
    "#### 5) call by multiple column"
   ]
  },
  {
   "cell_type": "code",
   "execution_count": 8,
   "metadata": {},
   "outputs": [
    {
     "data": {
      "text/html": [
       "<div>\n",
       "<style scoped>\n",
       "    .dataframe tbody tr th:only-of-type {\n",
       "        vertical-align: middle;\n",
       "    }\n",
       "\n",
       "    .dataframe tbody tr th {\n",
       "        vertical-align: top;\n",
       "    }\n",
       "\n",
       "    .dataframe thead th {\n",
       "        text-align: right;\n",
       "    }\n",
       "</style>\n",
       "<table border=\"1\" class=\"dataframe\">\n",
       "  <thead>\n",
       "    <tr style=\"text-align: right;\">\n",
       "      <th></th>\n",
       "      <th>pid</th>\n",
       "      <th>product</th>\n",
       "    </tr>\n",
       "  </thead>\n",
       "  <tbody>\n",
       "    <tr>\n",
       "      <th>0</th>\n",
       "      <td>Q4081781803</td>\n",
       "      <td>마우스 Wireless Mouse 2.4GHz game Ergonomic Desig...</td>\n",
       "    </tr>\n",
       "    <tr>\n",
       "      <th>1</th>\n",
       "      <td>W4203425504</td>\n",
       "      <td>[SB몰]스페리 Top-Sider Songfish Python 여성 Flats &amp; ...</td>\n",
       "    </tr>\n",
       "    <tr>\n",
       "      <th>2</th>\n",
       "      <td>G4453903364</td>\n",
       "      <td>(1553)CRG-309 재생토너 캐논 LBP-5250K/5350K/6525K/</td>\n",
       "    </tr>\n",
       "    <tr>\n",
       "      <th>3</th>\n",
       "      <td>U4418629259</td>\n",
       "      <td>중성펜/젤러펜 필기구 볼펜류 볼펜심제브라 Refill SK</td>\n",
       "    </tr>\n",
       "    <tr>\n",
       "      <th>4</th>\n",
       "      <td>I4066071748</td>\n",
       "      <td>마이비 마이비  무형광 아기세탁망 원형 M (45cm)/빨래망</td>\n",
       "    </tr>\n",
       "    <tr>\n",
       "      <th>5</th>\n",
       "      <td>J4586931195</td>\n",
       "      <td>031-893-8020 평택안중백병원장례식장 화환추천BZ</td>\n",
       "    </tr>\n",
       "    <tr>\n",
       "      <th>6</th>\n",
       "      <td>F4662379886</td>\n",
       "      <td>스카치 초강력 폼양면 테이프 (대) 다용도</td>\n",
       "    </tr>\n",
       "    <tr>\n",
       "      <th>7</th>\n",
       "      <td>O3764058858</td>\n",
       "      <td>Continental CrossContact LX 스포츠 275/45R21 110W...</td>\n",
       "    </tr>\n",
       "    <tr>\n",
       "      <th>8</th>\n",
       "      <td>J3959473240</td>\n",
       "      <td>[롯데백화점][에트로]토트 겸 숄더백 1H558-8259-150</td>\n",
       "    </tr>\n",
       "    <tr>\n",
       "      <th>9</th>\n",
       "      <td>K4487826783</td>\n",
       "      <td>[KB 5% 청구할인]LG 옵티머스G3 스크린 House 젤리 핸드폰케이스 F490</td>\n",
       "    </tr>\n",
       "  </tbody>\n",
       "</table>\n",
       "</div>"
      ],
      "text/plain": [
       "           pid                                            product\n",
       "0  Q4081781803  마우스 Wireless Mouse 2.4GHz game Ergonomic Desig...\n",
       "1  W4203425504  [SB몰]스페리 Top-Sider Songfish Python 여성 Flats & ...\n",
       "2  G4453903364       (1553)CRG-309 재생토너 캐논 LBP-5250K/5350K/6525K/\n",
       "3  U4418629259                   중성펜/젤러펜 필기구 볼펜류 볼펜심제브라 Refill SK\n",
       "4  I4066071748                 마이비 마이비  무형광 아기세탁망 원형 M (45cm)/빨래망\n",
       "5  J4586931195                    031-893-8020 평택안중백병원장례식장 화환추천BZ\n",
       "6  F4662379886                            스카치 초강력 폼양면 테이프 (대) 다용도\n",
       "7  O3764058858  Continental CrossContact LX 스포츠 275/45R21 110W...\n",
       "8  J3959473240                [롯데백화점][에트로]토트 겸 숄더백 1H558-8259-150\n",
       "9  K4487826783     [KB 5% 청구할인]LG 옵티머스G3 스크린 House 젤리 핸드폰케이스 F490"
      ]
     },
     "execution_count": 8,
     "metadata": {},
     "output_type": "execute_result"
    }
   ],
   "source": [
    "dl[['pid','product'],:10]"
   ]
  },
  {
   "cell_type": "markdown",
   "metadata": {},
   "source": [
    "#### 6) call All"
   ]
  },
  {
   "cell_type": "code",
   "execution_count": 9,
   "metadata": {},
   "outputs": [],
   "source": [
    "# 이렇게 하면 되는데, 메모리 많이 잡아먹는다... 나는 이런 식으로 call 하진 않을란다\n",
    "# dl[:,:]"
   ]
  },
  {
   "cell_type": "markdown",
   "metadata": {},
   "source": [
    "#### 7) call by column and list\n",
    "\n",
    "Random Order로도 Call 할 수 있도록 만들었다. (여기에 은근 시간이 많이 들었다...)"
   ]
  },
  {
   "cell_type": "code",
   "execution_count": 10,
   "metadata": {},
   "outputs": [
    {
     "data": {
      "text/plain": [
       "0    마우스 Wireless Mouse 2.4GHz game Ergonomic Desig...\n",
       "1                   NT)디자인컷터날(BS-28P_점선)-갑(10개입) 사무용커터\n",
       "2    Continental CrossContact LX 스포츠 275/45R21 110W...\n",
       "3                     [GM데코] iy431-세계나라들의대표빵_브런치_노프레임_\n",
       "Name: product, dtype: object"
      ]
     },
     "execution_count": 10,
     "metadata": {},
     "output_type": "execute_result"
    }
   ],
   "source": [
    "dl[\"product\",[0,10,7,120]]"
   ]
  },
  {
   "cell_type": "markdown",
   "metadata": {},
   "source": [
    "카카오에서 제공한 원본 파일에서도 동일하게 작동한다. 하지만 아직 img_feat을 처리하는 코드는 구현하지 않았기 때문에, img_feat 외의 것들만 DataLoader을 통해 호출 가능하다"
   ]
  },
  {
   "cell_type": "code",
   "execution_count": 11,
   "metadata": {},
   "outputs": [
    {
     "name": "stderr",
     "output_type": "stream",
     "text": [
      "../valhalla/extract.py:65: UserWarning: 아직 img_feat를 Data Loader로 호출할 수 없습니다. img_feat는 직접 h5파일에서 호출해 주세요.\n",
      "  warnings.warn(\"아직 img_feat를 Data Loader로 호출할 수 없습니다. img_feat는 직접 h5파일에서 호출해 주세요.\")\n"
     ]
    }
   ],
   "source": [
    "dl = DataExtractor(\"../data/raw/train.chunk.01\",'train')"
   ]
  },
  {
   "cell_type": "code",
   "execution_count": 12,
   "metadata": {},
   "outputs": [
    {
     "data": {
      "text/html": [
       "<div>\n",
       "<style scoped>\n",
       "    .dataframe tbody tr th:only-of-type {\n",
       "        vertical-align: middle;\n",
       "    }\n",
       "\n",
       "    .dataframe tbody tr th {\n",
       "        vertical-align: top;\n",
       "    }\n",
       "\n",
       "    .dataframe thead th {\n",
       "        text-align: right;\n",
       "    }\n",
       "</style>\n",
       "<table border=\"1\" class=\"dataframe\">\n",
       "  <thead>\n",
       "    <tr style=\"text-align: right;\">\n",
       "      <th></th>\n",
       "      <th>bcateid</th>\n",
       "      <th>dcateid</th>\n",
       "      <th>mcateid</th>\n",
       "      <th>price</th>\n",
       "      <th>scateid</th>\n",
       "      <th>brand</th>\n",
       "      <th>maker</th>\n",
       "      <th>model</th>\n",
       "      <th>pid</th>\n",
       "      <th>product</th>\n",
       "      <th>updttm</th>\n",
       "    </tr>\n",
       "  </thead>\n",
       "  <tbody>\n",
       "    <tr>\n",
       "      <th>0</th>\n",
       "      <td>1</td>\n",
       "      <td>-1</td>\n",
       "      <td>1</td>\n",
       "      <td>16520</td>\n",
       "      <td>2</td>\n",
       "      <td>퍼즐라이프</td>\n",
       "      <td>상품상세설명 참조</td>\n",
       "      <td>퍼즐라이프 직소퍼즐 바다거북의 여행</td>\n",
       "      <td>O4486751463</td>\n",
       "      <td>직소퍼즐 - 1000조각 바다거북의 여행 (PL1275)</td>\n",
       "      <td>20180227091029</td>\n",
       "    </tr>\n",
       "    <tr>\n",
       "      <th>1</th>\n",
       "      <td>3</td>\n",
       "      <td>-1</td>\n",
       "      <td>3</td>\n",
       "      <td>20370</td>\n",
       "      <td>4</td>\n",
       "      <td>바보사랑</td>\n",
       "      <td>MORY|해당없음</td>\n",
       "      <td>아이폰6S/6S+ tree farm101 - 다이어리케이스|아이폰6S/6S+</td>\n",
       "      <td>P3307178849</td>\n",
       "      <td>[모리케이스]아이폰6S/6S+ tree farm101 - 다이어리케이스[바보사랑][...</td>\n",
       "      <td>20180429085019</td>\n",
       "    </tr>\n",
       "    <tr>\n",
       "      <th>2</th>\n",
       "      <td>5</td>\n",
       "      <td>-1</td>\n",
       "      <td>5</td>\n",
       "      <td>-1</td>\n",
       "      <td>6</td>\n",
       "      <td>크리비아</td>\n",
       "      <td></td>\n",
       "      <td>크리비아 기모 3부 속바지 GLG4314P</td>\n",
       "      <td>R4424255515</td>\n",
       "      <td>크리비아 기모 3부 속바지 GLG4314P</td>\n",
       "      <td>20180426102314</td>\n",
       "    </tr>\n",
       "    <tr>\n",
       "      <th>3</th>\n",
       "      <td>7</td>\n",
       "      <td>-1</td>\n",
       "      <td>7</td>\n",
       "      <td>16280</td>\n",
       "      <td>8</td>\n",
       "      <td>잭앤질</td>\n",
       "      <td>㈜크리스패션</td>\n",
       "      <td>[잭앤질] 남성 솔리드 절개라인 포인트 포켓 팬츠 31133PT002_NA</td>\n",
       "      <td>F3334315393</td>\n",
       "      <td>[하프클럽/잭앤질]남성 솔리드 절개라인 포인트 포켓 팬츠 31133PT002_NA</td>\n",
       "      <td>20180422084512</td>\n",
       "    </tr>\n",
       "    <tr>\n",
       "      <th>4</th>\n",
       "      <td>10</td>\n",
       "      <td>-1</td>\n",
       "      <td>9</td>\n",
       "      <td>-1</td>\n",
       "      <td>11</td>\n",
       "      <td></td>\n",
       "      <td>기타</td>\n",
       "      <td>SD코드프리혈당시험지[50매]</td>\n",
       "      <td>N731678492</td>\n",
       "      <td>코드프리혈당시험지50매/코드프리시험지/최장유효기간</td>\n",
       "      <td>20180424071623</td>\n",
       "    </tr>\n",
       "    <tr>\n",
       "      <th>5</th>\n",
       "      <td>11</td>\n",
       "      <td>-1</td>\n",
       "      <td>10</td>\n",
       "      <td>-1</td>\n",
       "      <td>12</td>\n",
       "      <td></td>\n",
       "      <td></td>\n",
       "      <td>아트박스 POOM/낭만창고  idk385-시원한 맥주 캬하~</td>\n",
       "      <td>J4094617432</td>\n",
       "      <td>아트박스 POOM/낭만창고  idk385-시원한 맥주 캬하~</td>\n",
       "      <td>20180426150317</td>\n",
       "    </tr>\n",
       "    <tr>\n",
       "      <th>6</th>\n",
       "      <td>12</td>\n",
       "      <td>-1</td>\n",
       "      <td>11</td>\n",
       "      <td>-1</td>\n",
       "      <td>13</td>\n",
       "      <td></td>\n",
       "      <td>기타</td>\n",
       "      <td>기타</td>\n",
       "      <td>V4742097320</td>\n",
       "      <td>데버스 뉴 캠핑 BBQ 글러브 DVC E1209N 캠핑 등산</td>\n",
       "      <td>20180422222810</td>\n",
       "    </tr>\n",
       "    <tr>\n",
       "      <th>7</th>\n",
       "      <td>13</td>\n",
       "      <td>-1</td>\n",
       "      <td>12</td>\n",
       "      <td>-1</td>\n",
       "      <td>14</td>\n",
       "      <td>엘르스포츠</td>\n",
       "      <td>기타</td>\n",
       "      <td>ETFLB06NVY</td>\n",
       "      <td>Z4154445264</td>\n",
       "      <td>엘르스포츠 여성 비키니2PCS ETFLB06NVY</td>\n",
       "      <td>20180420064936</td>\n",
       "    </tr>\n",
       "    <tr>\n",
       "      <th>8</th>\n",
       "      <td>14</td>\n",
       "      <td>-1</td>\n",
       "      <td>13</td>\n",
       "      <td>30750</td>\n",
       "      <td>15</td>\n",
       "      <td>제옥스</td>\n",
       "      <td>제옥스</td>\n",
       "      <td></td>\n",
       "      <td>L2121928457</td>\n",
       "      <td>[패션플러스][GEOX][GEOX] 제옥스 GH-405 블랙펄  클러치백</td>\n",
       "      <td>20180419090423</td>\n",
       "    </tr>\n",
       "    <tr>\n",
       "      <th>9</th>\n",
       "      <td>11</td>\n",
       "      <td>-1</td>\n",
       "      <td>15</td>\n",
       "      <td>25200</td>\n",
       "      <td>17</td>\n",
       "      <td>꾸밈</td>\n",
       "      <td>꾸밈</td>\n",
       "      <td>인테리어액자-iz099-우럭아왜우럭</td>\n",
       "      <td>J2944368118</td>\n",
       "      <td>[아트박스 POOM/꾸밈] iz099-우럭아왜우럭</td>\n",
       "      <td>20180401085848</td>\n",
       "    </tr>\n",
       "  </tbody>\n",
       "</table>\n",
       "</div>"
      ],
      "text/plain": [
       "   bcateid  dcateid  mcateid  price  scateid  brand      maker  \\\n",
       "0        1       -1        1  16520        2  퍼즐라이프  상품상세설명 참조   \n",
       "1        3       -1        3  20370        4   바보사랑  MORY|해당없음   \n",
       "2        5       -1        5     -1        6   크리비아              \n",
       "3        7       -1        7  16280        8    잭앤질     ㈜크리스패션   \n",
       "4       10       -1        9     -1       11                기타   \n",
       "5       11       -1       10     -1       12                     \n",
       "6       12       -1       11     -1       13                기타   \n",
       "7       13       -1       12     -1       14  엘르스포츠         기타   \n",
       "8       14       -1       13  30750       15    제옥스        제옥스   \n",
       "9       11       -1       15  25200       17     꾸밈         꾸밈   \n",
       "\n",
       "                                        model          pid  \\\n",
       "0                         퍼즐라이프 직소퍼즐 바다거북의 여행  O4486751463   \n",
       "1  아이폰6S/6S+ tree farm101 - 다이어리케이스|아이폰6S/6S+  P3307178849   \n",
       "2                     크리비아 기모 3부 속바지 GLG4314P  R4424255515   \n",
       "3   [잭앤질] 남성 솔리드 절개라인 포인트 포켓 팬츠 31133PT002_NA  F3334315393   \n",
       "4                            SD코드프리혈당시험지[50매]   N731678492   \n",
       "5           아트박스 POOM/낭만창고  idk385-시원한 맥주 캬하~  J4094617432   \n",
       "6                                          기타  V4742097320   \n",
       "7                                  ETFLB06NVY  Z4154445264   \n",
       "8                                              L2121928457   \n",
       "9                         인테리어액자-iz099-우럭아왜우럭  J2944368118   \n",
       "\n",
       "                                             product          updttm  \n",
       "0                    직소퍼즐 - 1000조각 바다거북의 여행 (PL1275)  20180227091029  \n",
       "1  [모리케이스]아이폰6S/6S+ tree farm101 - 다이어리케이스[바보사랑][...  20180429085019  \n",
       "2                            크리비아 기모 3부 속바지 GLG4314P  20180426102314  \n",
       "3      [하프클럽/잭앤질]남성 솔리드 절개라인 포인트 포켓 팬츠 31133PT002_NA  20180422084512  \n",
       "4                        코드프리혈당시험지50매/코드프리시험지/최장유효기간  20180424071623  \n",
       "5                  아트박스 POOM/낭만창고  idk385-시원한 맥주 캬하~  20180426150317  \n",
       "6                  데버스 뉴 캠핑 BBQ 글러브 DVC E1209N 캠핑 등산  20180422222810  \n",
       "7                        엘르스포츠 여성 비키니2PCS ETFLB06NVY  20180420064936  \n",
       "8           [패션플러스][GEOX][GEOX] 제옥스 GH-405 블랙펄  클러치백  20180419090423  \n",
       "9                        [아트박스 POOM/꾸밈] iz099-우럭아왜우럭  20180401085848  "
      ]
     },
     "execution_count": 12,
     "metadata": {},
     "output_type": "execute_result"
    }
   ],
   "source": [
    "dl[:,:10]"
   ]
  }
 ],
 "metadata": {
  "kernelspec": {
   "display_name": "Python 3",
   "language": "python",
   "name": "python3"
  },
  "language_info": {
   "codemirror_mode": {
    "name": "ipython",
    "version": 3
   },
   "file_extension": ".py",
   "mimetype": "text/x-python",
   "name": "python",
   "nbconvert_exporter": "python",
   "pygments_lexer": "ipython3",
   "version": "3.6.5"
  }
 },
 "nbformat": 4,
 "nbformat_minor": 2
}
