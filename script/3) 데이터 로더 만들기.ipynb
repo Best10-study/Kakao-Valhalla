{
 "cells": [
  {
   "cell_type": "markdown",
   "metadata": {},
   "source": [
    "## Objective\n",
    "\n",
    "    .h5파일은 좋지만, Pandas가 좀 더 편하다. 매번 .h5파일에서 읽어와서 pandas.DataFrame으로 바꾸는 건 곤욕이다. 이걸 좀더 편하게 해주는 코드를 만들어보자\n",
    "    "
   ]
  },
  {
   "cell_type": "markdown",
   "metadata": {},
   "source": [
    ".h5파일에서 pandas처럼 바로 불러오는 Wrapper Class를 만드는게 목표이다. "
   ]
  },
  {
   "cell_type": "code",
   "execution_count": 1,
   "metadata": {},
   "outputs": [],
   "source": [
    "import h5py\n",
    "import pandas as pd\n",
    "import numpy as np"
   ]
  },
  {
   "cell_type": "markdown",
   "metadata": {},
   "source": [
    "일단 만들어진 코드가 어떻게 돌아가는지를 보면 다음과 같다"
   ]
  },
  {
   "cell_type": "code",
   "execution_count": 2,
   "metadata": {},
   "outputs": [],
   "source": [
    "import sys\n",
    "sys.path.append(\"../\")\n",
    "from data_utils import DataLoader"
   ]
  },
  {
   "cell_type": "code",
   "execution_count": 3,
   "metadata": {},
   "outputs": [],
   "source": [
    "# 전처리된 .h5 파일을 불러옴\n",
    "dl = DataLoader(\"../data/prep/train_string.h5\")"
   ]
  },
  {
   "cell_type": "markdown",
   "metadata": {},
   "source": [
    "카카오의 데이터는 매우 크다. 그래서 메모리에 모두 올리는 건 매우 부담스럽다. \n",
    "\n",
    "그렇다면, hdf5에서 필요한 부분만 호출해서 올리는게 어떨까? 원래 hdf5의 설계 자체가 DB처럼\n",
    "빠르게 파일에서 필요한 부분만 호출할 수 있도록 만들어졌다. 그래서 램보다는 느리지만, 그래도 제법 빠른 속도로 파일을 입출력 할 수 있다.\n",
    "\n",
    "그런데, hdf5파일을 다루기 위해서는 h5py로 코드를 처리해야 한다. 제법 API가 잘 짜여져 있지만, 그래도 코드가 마냥 Simple하지만은 않다. 그래서 마치 DataFrame처럼 호출해서 가져올 수 있는 클래스를 만들고자 한다. "
   ]
  },
  {
   "cell_type": "markdown",
   "metadata": {},
   "source": [
    "### 사용법은 아래와 같다"
   ]
  },
  {
   "cell_type": "markdown",
   "metadata": {},
   "source": [
    "사용법은 pandas의 index방식을 모방해서 만들었는데, 살짝 다르게 설계되었다."
   ]
  },
  {
   "cell_type": "markdown",
   "metadata": {},
   "source": [
    "#### 1) Call by Column"
   ]
  },
  {
   "cell_type": "code",
   "execution_count": 4,
   "metadata": {},
   "outputs": [
    {
     "data": {
      "text/plain": [
       "0          Q4081781803\n",
       "1          W4203425504\n",
       "2          G4453903364\n",
       "3          U4418629259\n",
       "4          I4066071748\n",
       "5          J4586931195\n",
       "6          F4662379886\n",
       "7          O3764058858\n",
       "8          J3959473240\n",
       "9          K4487826783\n",
       "10         W4100190891\n",
       "11         Y4608810761\n",
       "12         G3382184545\n",
       "13         J4364582444\n",
       "14         I3502158308\n",
       "15         R4216504551\n",
       "16         M4659179049\n",
       "17         T4480192202\n",
       "18         Y4722777949\n",
       "19         Y4583542454\n",
       "20         Q4164621977\n",
       "21         V4740525745\n",
       "22         H2995437169\n",
       "23         M4207737654\n",
       "24         F4702878597\n",
       "25         Y3242501673\n",
       "26         Z2534298325\n",
       "27         W4721558996\n",
       "28         X3796883287\n",
       "29         L4720929458\n",
       "              ...     \n",
       "8134788    I4571489417\n",
       "8134789    L4462167687\n",
       "8134790    G4465718172\n",
       "8134791    Y3994693665\n",
       "8134792    M4103937602\n",
       "8134793    O4565369299\n",
       "8134794    O2705040564\n",
       "8134795    K3109845258\n",
       "8134796    N4536410231\n",
       "8134797    S4584755403\n",
       "8134798    R3146172936\n",
       "8134799    O3322467671\n",
       "8134800    Q3279046477\n",
       "8134801    W3622755459\n",
       "8134802    G4538634679\n",
       "8134803    R3459328027\n",
       "8134804    U4735825780\n",
       "8134805    P3862407336\n",
       "8134806    S3539082810\n",
       "8134807    S4488480172\n",
       "8134808    S4730279491\n",
       "8134809    Y2746291271\n",
       "8134810    X4472080119\n",
       "8134811    H4438037550\n",
       "8134812    L4452758130\n",
       "8134813     U340546498\n",
       "8134814    L4042168702\n",
       "8134815    Y4571431528\n",
       "8134816    V4205665183\n",
       "8134817    R4137195174\n",
       "Name: pid, Length: 8134818, dtype: object"
      ]
     },
     "execution_count": 4,
     "metadata": {},
     "output_type": "execute_result"
    }
   ],
   "source": [
    "dl['pid']"
   ]
  },
  {
   "cell_type": "markdown",
   "metadata": {},
   "source": [
    "#### 2) Call by Column and index"
   ]
  },
  {
   "cell_type": "code",
   "execution_count": 5,
   "metadata": {},
   "outputs": [
    {
     "data": {
      "text/plain": [
       "0    W4100190891\n",
       "Name: pid, dtype: object"
      ]
     },
     "execution_count": 5,
     "metadata": {},
     "output_type": "execute_result"
    }
   ],
   "source": [
    "dl['pid',10]"
   ]
  },
  {
   "cell_type": "markdown",
   "metadata": {},
   "source": [
    "#### 3) call by Column and slice"
   ]
  },
  {
   "cell_type": "code",
   "execution_count": 6,
   "metadata": {},
   "outputs": [
    {
     "data": {
      "text/plain": [
       "0    U4418629259\n",
       "1    I4066071748\n",
       "2    J4586931195\n",
       "3    F4662379886\n",
       "Name: pid, dtype: object"
      ]
     },
     "execution_count": 6,
     "metadata": {},
     "output_type": "execute_result"
    }
   ],
   "source": [
    "dl[\"pid\",3:7]"
   ]
  },
  {
   "cell_type": "markdown",
   "metadata": {},
   "source": [
    "#### 4) call string by Column\n",
    "\n",
    "hdf5에서 가져올 때 기본적으로 byte 형태로 출력된다. 이를 dataloader에서는 받아서, utf-8로 디코딩을 해서 출력해주게 된다. "
   ]
  },
  {
   "cell_type": "code",
   "execution_count": 7,
   "metadata": {},
   "outputs": [
    {
     "data": {
      "text/plain": [
       "0    마우스 Wireless Mouse 2.4GHz game Ergonomic Desig...\n",
       "1    [SB몰]스페리 Top-Sider Songfish Python 여성 Flats & ...\n",
       "2         (1553)CRG-309 재생토너 캐논 LBP-5250K/5350K/6525K/\n",
       "3                     중성펜/젤러펜 필기구 볼펜류 볼펜심제브라 Refill SK\n",
       "4                   마이비 마이비  무형광 아기세탁망 원형 M (45cm)/빨래망\n",
       "5                      031-893-8020 평택안중백병원장례식장 화환추천BZ\n",
       "6                              스카치 초강력 폼양면 테이프 (대) 다용도\n",
       "7    Continental CrossContact LX 스포츠 275/45R21 110W...\n",
       "8                  [롯데백화점][에트로]토트 겸 숄더백 1H558-8259-150\n",
       "9       [KB 5% 청구할인]LG 옵티머스G3 스크린 House 젤리 핸드폰케이스 F490\n",
       "Name: product, dtype: object"
      ]
     },
     "execution_count": 7,
     "metadata": {},
     "output_type": "execute_result"
    }
   ],
   "source": [
    "dl[\"product\",:10]"
   ]
  },
  {
   "cell_type": "markdown",
   "metadata": {},
   "source": [
    "#### 5) call by multiple column"
   ]
  },
  {
   "cell_type": "code",
   "execution_count": 8,
   "metadata": {},
   "outputs": [
    {
     "data": {
      "text/html": [
       "<div>\n",
       "<style scoped>\n",
       "    .dataframe tbody tr th:only-of-type {\n",
       "        vertical-align: middle;\n",
       "    }\n",
       "\n",
       "    .dataframe tbody tr th {\n",
       "        vertical-align: top;\n",
       "    }\n",
       "\n",
       "    .dataframe thead th {\n",
       "        text-align: right;\n",
       "    }\n",
       "</style>\n",
       "<table border=\"1\" class=\"dataframe\">\n",
       "  <thead>\n",
       "    <tr style=\"text-align: right;\">\n",
       "      <th></th>\n",
       "      <th>pid</th>\n",
       "      <th>product</th>\n",
       "    </tr>\n",
       "  </thead>\n",
       "  <tbody>\n",
       "    <tr>\n",
       "      <th>0</th>\n",
       "      <td>Q4081781803</td>\n",
       "      <td>마우스 Wireless Mouse 2.4GHz game Ergonomic Desig...</td>\n",
       "    </tr>\n",
       "    <tr>\n",
       "      <th>1</th>\n",
       "      <td>W4203425504</td>\n",
       "      <td>[SB몰]스페리 Top-Sider Songfish Python 여성 Flats &amp; ...</td>\n",
       "    </tr>\n",
       "    <tr>\n",
       "      <th>2</th>\n",
       "      <td>G4453903364</td>\n",
       "      <td>(1553)CRG-309 재생토너 캐논 LBP-5250K/5350K/6525K/</td>\n",
       "    </tr>\n",
       "    <tr>\n",
       "      <th>3</th>\n",
       "      <td>U4418629259</td>\n",
       "      <td>중성펜/젤러펜 필기구 볼펜류 볼펜심제브라 Refill SK</td>\n",
       "    </tr>\n",
       "    <tr>\n",
       "      <th>4</th>\n",
       "      <td>I4066071748</td>\n",
       "      <td>마이비 마이비  무형광 아기세탁망 원형 M (45cm)/빨래망</td>\n",
       "    </tr>\n",
       "    <tr>\n",
       "      <th>5</th>\n",
       "      <td>J4586931195</td>\n",
       "      <td>031-893-8020 평택안중백병원장례식장 화환추천BZ</td>\n",
       "    </tr>\n",
       "    <tr>\n",
       "      <th>6</th>\n",
       "      <td>F4662379886</td>\n",
       "      <td>스카치 초강력 폼양면 테이프 (대) 다용도</td>\n",
       "    </tr>\n",
       "    <tr>\n",
       "      <th>7</th>\n",
       "      <td>O3764058858</td>\n",
       "      <td>Continental CrossContact LX 스포츠 275/45R21 110W...</td>\n",
       "    </tr>\n",
       "    <tr>\n",
       "      <th>8</th>\n",
       "      <td>J3959473240</td>\n",
       "      <td>[롯데백화점][에트로]토트 겸 숄더백 1H558-8259-150</td>\n",
       "    </tr>\n",
       "    <tr>\n",
       "      <th>9</th>\n",
       "      <td>K4487826783</td>\n",
       "      <td>[KB 5% 청구할인]LG 옵티머스G3 스크린 House 젤리 핸드폰케이스 F490</td>\n",
       "    </tr>\n",
       "  </tbody>\n",
       "</table>\n",
       "</div>"
      ],
      "text/plain": [
       "           pid                                            product\n",
       "0  Q4081781803  마우스 Wireless Mouse 2.4GHz game Ergonomic Desig...\n",
       "1  W4203425504  [SB몰]스페리 Top-Sider Songfish Python 여성 Flats & ...\n",
       "2  G4453903364       (1553)CRG-309 재생토너 캐논 LBP-5250K/5350K/6525K/\n",
       "3  U4418629259                   중성펜/젤러펜 필기구 볼펜류 볼펜심제브라 Refill SK\n",
       "4  I4066071748                 마이비 마이비  무형광 아기세탁망 원형 M (45cm)/빨래망\n",
       "5  J4586931195                    031-893-8020 평택안중백병원장례식장 화환추천BZ\n",
       "6  F4662379886                            스카치 초강력 폼양면 테이프 (대) 다용도\n",
       "7  O3764058858  Continental CrossContact LX 스포츠 275/45R21 110W...\n",
       "8  J3959473240                [롯데백화점][에트로]토트 겸 숄더백 1H558-8259-150\n",
       "9  K4487826783     [KB 5% 청구할인]LG 옵티머스G3 스크린 House 젤리 핸드폰케이스 F490"
      ]
     },
     "execution_count": 8,
     "metadata": {},
     "output_type": "execute_result"
    }
   ],
   "source": [
    "dl[['pid','product'],:10]"
   ]
  },
  {
   "cell_type": "markdown",
   "metadata": {},
   "source": [
    "#### 6) call All"
   ]
  },
  {
   "cell_type": "code",
   "execution_count": 9,
   "metadata": {},
   "outputs": [],
   "source": [
    "# 이렇게 하면 되는데, 메모리 많이 잡아먹는다... 나는 이런 식으로 call 하진 않을란다\n",
    "# dl[:,:]"
   ]
  },
  {
   "cell_type": "markdown",
   "metadata": {},
   "source": [
    "#### 7) call by column and list\n",
    "\n",
    "Random Order로도 Call 할 수 있도록 만들었다. (여기에 은근 시간이 많이 들었다...)"
   ]
  },
  {
   "cell_type": "code",
   "execution_count": 10,
   "metadata": {},
   "outputs": [
    {
     "data": {
      "text/plain": [
       "0    마우스 Wireless Mouse 2.4GHz game Ergonomic Desig...\n",
       "1                   NT)디자인컷터날(BS-28P_점선)-갑(10개입) 사무용커터\n",
       "2    Continental CrossContact LX 스포츠 275/45R21 110W...\n",
       "3                     [GM데코] iy431-세계나라들의대표빵_브런치_노프레임_\n",
       "Name: product, dtype: object"
      ]
     },
     "execution_count": 10,
     "metadata": {},
     "output_type": "execute_result"
    }
   ],
   "source": [
    "dl[\"product\",[0,10,7,120]]"
   ]
  }
 ],
 "metadata": {
  "kernelspec": {
   "display_name": "Python 3",
   "language": "python",
   "name": "python3"
  },
  "language_info": {
   "codemirror_mode": {
    "name": "ipython",
    "version": 3
   },
   "file_extension": ".py",
   "mimetype": "text/x-python",
   "name": "python",
   "nbconvert_exporter": "python",
   "pygments_lexer": "ipython3",
   "version": "3.6.5"
  }
 },
 "nbformat": 4,
 "nbformat_minor": 2
}
