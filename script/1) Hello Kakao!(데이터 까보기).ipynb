{
 "cells": [
  {
   "cell_type": "code",
   "execution_count": null,
   "metadata": {},
   "outputs": [],
   "source": [
    "import h5py\n",
    "import os\n",
    "import numpy as np\n",
    "import json\n",
    "\n",
    "DATA_DIR = \"../data/raw/\"\n",
    "TRAIN_DIR = os.path.join(DATA_DIR,\"train\")"
   ]
  },
  {
   "cell_type": "markdown",
   "metadata": {},
   "source": [
    "## Caution\n",
    "아래의 스크립트를 실행하기 위해서는 다음과 같은 폴더 구성을 지켜주셔야 합니다. \n",
    "```\n",
    "|- data/\n",
    "     |- raw/\n",
    "         |- train/\n",
    "              |- train.chunk.01~09\n",
    "         |- test/\n",
    "              |- test.chunk.01~02\n",
    "         |- dev/\n",
    "              |- dev.chunk.01\n",
    "         |- cate1.json\n",
    "```\n",
    "\n",
    "이 코드들은 간단히 데이터를 까보기 위함일 뿐, 그렇게 의미있진 않을 겁니다. \n",
    "바로 데이터를 분석해보기 위해서는 저희가 직접 전처리한 데이터들을 다운 받아서 쓰시면 될 겁니다.\n",
    "\n",
    "`3) 데이터 로더 만들기.ipynb`부터 참고해주세요"
   ]
  },
  {
   "cell_type": "markdown",
   "metadata": {},
   "source": [
    "## Objective\n",
    "\n",
    "    우리의 카카오가 어떤 데이터를 우리에게 넘겨주셨는지 한번 보아요.\n",
    "    주어진 데이터가 어떤 꼴인지를 확인 좀 해봅시다"
   ]
  },
  {
   "cell_type": "code",
   "execution_count": null,
   "metadata": {},
   "outputs": [],
   "source": [
    "f = h5py.File(os.path.join(TRAIN_DIR,\"train.chunk.01\"),'r')\n",
    "print(list(f['train'].keys()))"
   ]
  },
  {
   "cell_type": "markdown",
   "metadata": {},
   "source": [
    "## 주어진 데이터셋\n",
    "\n",
    "| 컬럼  | 타입  | 설명  | 예시|\n",
    "|---|---|---| ---|\n",
    "| pid  | string | 상품 ID | O4486751463 |\n",
    "| product  | string  | 상품명  | 직소퍼즐 - 1000조각 바다거북의 여행 (PL1275) |\n",
    "| brand  | string  | 브랜드명  | 퍼즐라이프 |\n",
    "| model  | string  | 정제된 상품명  | 퍼즐라이프 직소퍼즐 바다거북의 여행 |\n",
    "| maker  | string  | 제조사   | ㈜크리스패션 |\n",
    "| price  | int32  | 가격 | 16520 |\n",
    "| updttm |  string | 상품정보업데이트 시간 | 20180227091029 |\n",
    "| bcateid | int32  | 대카테고리 ID  | 1 |\n",
    "| mcateid | int32  | 중카테고리 ID  | 1 |\n",
    "| scateid | int32  | 소카테고리 ID  | 2 |\n",
    "| dcateid | int32  | 세카테고리 ID  | -1 |\n",
    "| img_feat | float32 | ResNet50(imagenet)의 모델의 출력  |array([...,..]) |"
   ]
  },
  {
   "cell_type": "code",
   "execution_count": null,
   "metadata": {},
   "outputs": [],
   "source": [
    "def list_up_string_in_file(column_name, nums=20):\n",
    "    # h5py의 column_name을 열어보는 코드\n",
    "    return list(map(lambda x: x.decode('utf-8'), f['train'][column_name][:nums]))"
   ]
  },
  {
   "cell_type": "markdown",
   "metadata": {},
   "source": [
    "### pid\n",
    "\n",
    "상품 ID에는 정해진 길이의 string으로 된 구조가 있는 ID이다.\n",
    "\n",
    "가설 1) \n",
    "> 브랜드명, 상품명, 제조사, 카테고리 등의 정보로 조합되었을 것이다."
   ]
  },
  {
   "cell_type": "code",
   "execution_count": null,
   "metadata": {},
   "outputs": [],
   "source": [
    "list_up_string_in_file(column_name=\"pid\", nums=30)"
   ]
  },
  {
   "cell_type": "markdown",
   "metadata": {},
   "source": [
    "### product & brand & model & maker\n",
    "\n",
    "상품 이름과 브랜드와 model의 관계를 분석해 볼 필요가 있다. \n",
    "\n",
    "\n",
    "가설 1) \n",
    "> 브랜드와 maker 사이의 관계 \n",
    "\n",
    "가설 2) \n",
    "> 상품 이름과 model 사이의 관계"
   ]
  },
  {
   "cell_type": "code",
   "execution_count": null,
   "metadata": {
    "scrolled": false
   },
   "outputs": [],
   "source": [
    "products = list_up_string_in_file('product')\n",
    "brands = list_up_string_in_file('brand')\n",
    "models = list_up_string_in_file('model')\n",
    "makers = list_up_string_in_file('maker')\n",
    "for p_name, b_name, m_name, ma_name in zip(products, brands, models, makers):\n",
    "    print(\"product : \", p_name)\n",
    "    print(\"brand : \", b_name)\n",
    "    print(\"model : \", m_name)\n",
    "    print(\"maker : \", ma_name)\n",
    "    print(\"---------------------\")"
   ]
  },
  {
   "cell_type": "markdown",
   "metadata": {},
   "source": [
    "### Price\n",
    "\n",
    "가격은 정수로 존재한다\n",
    "\n",
    "\n",
    "가설 1) \n",
    "> 존재하지 않은 경우, -1로 되어 있는 것으로 추정된다"
   ]
  },
  {
   "cell_type": "code",
   "execution_count": null,
   "metadata": {},
   "outputs": [],
   "source": [
    "list(f['train']['price'][:20])"
   ]
  },
  {
   "cell_type": "markdown",
   "metadata": {},
   "source": [
    "### updttm\t\n",
    "\n",
    "입력 시간은 중요하다고 느껴지지 않지만, 확인해볼 가치는 있다.\n",
    "\n",
    "가설\n",
    "> 20180227091029 : 2017년 02월 27일 09시 10분 29초 의 구조로 되어 있을 것이다"
   ]
  },
  {
   "cell_type": "code",
   "execution_count": null,
   "metadata": {},
   "outputs": [],
   "source": [
    "updttms = list_up_string_in_file('updttm')\n",
    "for updttm in updttms :\n",
    "    print(updttm)"
   ]
  },
  {
   "cell_type": "markdown",
   "metadata": {},
   "source": [
    "### Category ID\n",
    "\n",
    "카테고리 아이디도 정수 값으로 존재한다\n",
    "\n",
    "가설 1) \n",
    "> 존재하지 않는 경우 -1로 되어 있는 것으로 추정된다.\n"
   ]
  },
  {
   "cell_type": "code",
   "execution_count": null,
   "metadata": {},
   "outputs": [],
   "source": [
    "bcateids = list(f['train']['bcateid'][:20])\n",
    "mcateids = list(f['train']['mcateid'][:20])\n",
    "scateids = list(f['train']['scateid'][:20])\n",
    "dcateids = list(f['train']['dcateid'][:20])\n",
    "print(\"[  대, 중,  소, 세]\")\n",
    "for b_id, m_id, s_id, d_id in zip(bcateids, mcateids, scateids, dcateids):\n",
    "    print(\"[{:3d},{:3d},{:3d},{:3d}]\".format(b_id, m_id,s_id, d_id))\n",
    "    "
   ]
  },
  {
   "cell_type": "markdown",
   "metadata": {},
   "source": [
    "카테고리 정보는 따로 json 파일로 제공되었다."
   ]
  },
  {
   "cell_type": "code",
   "execution_count": null,
   "metadata": {},
   "outputs": [],
   "source": [
    "json_data = open(os.path.join(DATA_DIR,'cate1.json')).read()\n",
    "data = json.loads(json_data)"
   ]
  },
  {
   "cell_type": "markdown",
   "metadata": {},
   "source": [
    "데이터는 key: 파일이름 - value : id로 구성되어 있는데, \n",
    "\n",
    "역으로 우리가 바꾸기 위해서는\n",
    "\n",
    "key와 value를 서로 반대로 바꾸어주는 게 편하다"
   ]
  },
  {
   "cell_type": "code",
   "execution_count": null,
   "metadata": {},
   "outputs": [],
   "source": [
    "# b: 대분류 m: 중분류 s: 소분류 d: 세분류\n",
    "b_cate_map = {value : key for key, value in data['b'].items()}\n",
    "m_cate_map = {value : key for key, value in data['m'].items()}\n",
    "s_cate_map = {value : key for key, value in data['s'].items()}\n",
    "d_cate_map = {value : key for key, value in data['d'].items()}\n"
   ]
  },
  {
   "cell_type": "code",
   "execution_count": null,
   "metadata": {},
   "outputs": [],
   "source": [
    "print(\"[  대, 중,  소, 세]\")\n",
    "for b_id, m_id, s_id, d_id in zip(bcateids, mcateids, scateids, dcateids):\n",
    "    print(\"[{},{},{},{}]\".format(b_cate_map[b_id],\n",
    "                                 m_cate_map[m_id],\n",
    "                                 s_cate_map[s_id], \n",
    "                                 d_cate_map[d_id]))\n",
    "    "
   ]
  }
 ],
 "metadata": {
  "kernelspec": {
   "display_name": "Python 3",
   "language": "python",
   "name": "python3"
  },
  "language_info": {
   "codemirror_mode": {
    "name": "ipython",
    "version": 3
   },
   "file_extension": ".py",
   "mimetype": "text/x-python",
   "name": "python",
   "nbconvert_exporter": "python",
   "pygments_lexer": "ipython3",
   "version": "3.6.5"
  }
 },
 "nbformat": 4,
 "nbformat_minor": 2
}
