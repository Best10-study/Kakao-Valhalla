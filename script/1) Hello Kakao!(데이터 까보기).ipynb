{
 "cells": [
  {
   "cell_type": "code",
   "execution_count": 1,
   "metadata": {},
   "outputs": [],
   "source": [
    "import h5py\n",
    "import os\n",
    "import numpy as np\n",
    "import json\n",
    "\n",
    "DATA_DIR = \"../data/\"\n",
    "RAW_DIR = os.path.join(DATA_DIR,\"raw\")"
   ]
  },
  {
   "cell_type": "markdown",
   "metadata": {},
   "source": [
    "## Caution\n",
    "아래의 스크립트를 실행하기 위해서는 다음과 같은 폴더 구성을 지켜주셔야 합니다. \n",
    "```\n",
    "|- data/\n",
    "     |- raw/\n",
    "         |- train.chunk.01~09\n",
    "         |- test.chunk.01~02\n",
    "         |- dev.chunk.01\n",
    "         |- cate1.json\n",
    "```\n",
    "\n",
    "이 코드들은 간단히 데이터를 까보기 위함일 뿐, 그렇게 의미있진 않을 겁니다. 1~3에서는\n",
    "이 데이터를 어떻게 작업할지를 고민해 보았습니다.\n",
    "\n",
    "저희가 가진 고민 포인트는 \n",
    "> 큰 카카오 데이터를 램이 작은 컴퓨터에서 어떻게 효율적으로 처리할 것인가?\n",
    "\n",
    "였습니다. 저희가 내린 결론은 h5파일을 like Pandas 스타일로 처리할 수 있는 \n",
    "wrapper 클래스를 만들자입니다.\n",
    "\n",
    "어떤 식으로 구성하였는지 궁금하시면 아래의 \n",
    "`3) 데이터 로더 만들기.ipynb`부터 참고해주세요"
   ]
  },
  {
   "cell_type": "markdown",
   "metadata": {},
   "source": [
    "## Objective\n",
    "\n",
    "    우리의 카카오가 어떤 데이터를 우리에게 넘겨주셨는지 한번 보아요.\n",
    "    주어진 데이터가 어떤 꼴인지를 확인 좀 해봅시다"
   ]
  },
  {
   "cell_type": "code",
   "execution_count": 2,
   "metadata": {},
   "outputs": [
    {
     "name": "stdout",
     "output_type": "stream",
     "text": [
      "['bcateid', 'brand', 'dcateid', 'img_feat', 'maker', 'mcateid', 'model', 'pid', 'price', 'product', 'scateid', 'updttm']\n"
     ]
    }
   ],
   "source": [
    "f = h5py.File(os.path.join(RAW_DIR,\"train.chunk.01\"),'r')\n",
    "print(list(f['train'].keys()))"
   ]
  },
  {
   "cell_type": "markdown",
   "metadata": {},
   "source": [
    "## 주어진 데이터셋\n",
    "\n",
    "| 컬럼  | 타입  | 설명  | 예시|\n",
    "|---|---|---| ---|\n",
    "| pid  | string | 상품 ID | O4486751463 |\n",
    "| product  | string  | 상품명  | 직소퍼즐 - 1000조각 바다거북의 여행 (PL1275) |\n",
    "| brand  | string  | 브랜드명  | 퍼즐라이프 |\n",
    "| model  | string  | 정제된 상품명  | 퍼즐라이프 직소퍼즐 바다거북의 여행 |\n",
    "| maker  | string  | 제조사   | ㈜크리스패션 |\n",
    "| price  | int32  | 가격 | 16520 |\n",
    "| updttm |  string | 상품정보업데이트 시간 | 20180227091029 |\n",
    "| bcateid | int32  | 대카테고리 ID  | 1 |\n",
    "| mcateid | int32  | 중카테고리 ID  | 1 |\n",
    "| scateid | int32  | 소카테고리 ID  | 2 |\n",
    "| dcateid | int32  | 세카테고리 ID  | -1 |\n",
    "| img_feat | float32 | ResNet50(imagenet)의 모델의 출력  |array([...,..]) |"
   ]
  },
  {
   "cell_type": "code",
   "execution_count": 3,
   "metadata": {},
   "outputs": [],
   "source": [
    "def list_up_string_in_file(column_name, nums=20):\n",
    "    # h5py의 column_name을 열어보는 코드\n",
    "    return list(map(lambda x: x.decode('utf-8'), f['train'][column_name][:nums]))"
   ]
  },
  {
   "cell_type": "markdown",
   "metadata": {},
   "source": [
    "### pid\n",
    "\n",
    "상품 ID에는 정해진 길이의 string으로 된 구조가 있는 ID이다.\n",
    "\n",
    "가설 1) \n",
    "> 브랜드명, 상품명, 제조사, 카테고리 등의 정보로 조합되었을 것이다."
   ]
  },
  {
   "cell_type": "code",
   "execution_count": 4,
   "metadata": {},
   "outputs": [
    {
     "data": {
      "text/plain": [
       "['O4486751463',\n",
       " 'P3307178849',\n",
       " 'R4424255515',\n",
       " 'F3334315393',\n",
       " 'N731678492',\n",
       " 'J4094617432',\n",
       " 'V4742097320',\n",
       " 'Z4154445264',\n",
       " 'L2121928457',\n",
       " 'J2944368118',\n",
       " 'N4698218021',\n",
       " 'T3156402458',\n",
       " 'I2915540327',\n",
       " 'O4109219298',\n",
       " 'T3677023494',\n",
       " 'V3625380650',\n",
       " 'J3936916362',\n",
       " 'W4376557114',\n",
       " 'H2029561900',\n",
       " 'J4668796617',\n",
       " 'T4697530761',\n",
       " 'Y3943849716',\n",
       " 'X3068907230',\n",
       " 'I4466408838',\n",
       " 'N4717040803',\n",
       " 'N3753754373',\n",
       " 'L4461086364',\n",
       " 'P2128839717',\n",
       " 'L4505436857',\n",
       " 'M1001461571']"
      ]
     },
     "execution_count": 4,
     "metadata": {},
     "output_type": "execute_result"
    }
   ],
   "source": [
    "list_up_string_in_file(column_name=\"pid\", nums=30)"
   ]
  },
  {
   "cell_type": "markdown",
   "metadata": {},
   "source": [
    "### product & brand & model & maker\n",
    "\n",
    "상품 이름과 브랜드와 model의 관계를 분석해 볼 필요가 있다. \n",
    "\n",
    "\n",
    "가설 1) \n",
    "> 브랜드와 maker 사이의 관계 \n",
    "\n",
    "가설 2) \n",
    "> 상품 이름과 model 사이의 관계"
   ]
  },
  {
   "cell_type": "code",
   "execution_count": 5,
   "metadata": {
    "scrolled": false
   },
   "outputs": [
    {
     "name": "stdout",
     "output_type": "stream",
     "text": [
      "product :  직소퍼즐 - 1000조각 바다거북의 여행 (PL1275)\n",
      "brand :  퍼즐라이프\n",
      "model :  퍼즐라이프 직소퍼즐 바다거북의 여행\n",
      "maker :  상품상세설명 참조\n",
      "---------------------\n",
      "product :  [모리케이스]아이폰6S/6S+ tree farm101 - 다이어리케이스[바보사랑][무료배송]\n",
      "brand :  바보사랑\n",
      "model :  아이폰6S/6S+ tree farm101 - 다이어리케이스|아이폰6S/6S+\n",
      "maker :  MORY|해당없음\n",
      "---------------------\n",
      "product :  크리비아 기모 3부 속바지 GLG4314P\n",
      "brand :  크리비아\n",
      "model :  크리비아 기모 3부 속바지 GLG4314P\n",
      "maker :  \n",
      "---------------------\n",
      "product :  [하프클럽/잭앤질]남성 솔리드 절개라인 포인트 포켓 팬츠 31133PT002_NA\n",
      "brand :  잭앤질\n",
      "model :  [잭앤질] 남성 솔리드 절개라인 포인트 포켓 팬츠 31133PT002_NA\n",
      "maker :  ㈜크리스패션\n",
      "---------------------\n",
      "product :  코드프리혈당시험지50매/코드프리시험지/최장유효기간\n",
      "brand :  \n",
      "model :  SD코드프리혈당시험지[50매]\n",
      "maker :  기타\n",
      "---------------------\n",
      "product :  아트박스 POOM/낭만창고  idk385-시원한 맥주 캬하~\n",
      "brand :  \n",
      "model :  아트박스 POOM/낭만창고  idk385-시원한 맥주 캬하~\n",
      "maker :  \n",
      "---------------------\n",
      "product :  데버스 뉴 캠핑 BBQ 글러브 DVC E1209N 캠핑 등산\n",
      "brand :  \n",
      "model :  기타\n",
      "maker :  기타\n",
      "---------------------\n",
      "product :  엘르스포츠 여성 비키니2PCS ETFLB06NVY\n",
      "brand :  엘르스포츠\n",
      "model :  ETFLB06NVY\n",
      "maker :  기타\n",
      "---------------------\n",
      "product :  [패션플러스][GEOX][GEOX] 제옥스 GH-405 블랙펄  클러치백\n",
      "brand :  제옥스\n",
      "model :  \n",
      "maker :  제옥스\n",
      "---------------------\n",
      "product :  [아트박스 POOM/꾸밈] iz099-우럭아왜우럭\n",
      "brand :  꾸밈\n",
      "model :  인테리어액자-iz099-우럭아왜우럭\n",
      "maker :  꾸밈\n",
      "---------------------\n",
      "product :  S329 저소음 벽시계 인테리어시계 벽걸이시계 생활소\n",
      "brand :  제스코\n",
      "model :  상품상세설명 참조\n",
      "maker :  상품상세설명 참조\n",
      "---------------------\n",
      "product :  [브라스파티]리얼가죽 브리짓 BC2V3F2B77R\n",
      "brand :  브라스파티(BRHAS PATI)\n",
      "model :  \n",
      "maker :  (주)파코인터내셔날\n",
      "---------------------\n",
      "product :  S아람/한일/전기 미니온풍기 HEF-600히터/난방 난로\n",
      "brand :  한일\n",
      "model :  한일 HEF-600 7㎡(2평형) 온풍기\n",
      "maker :  한일\n",
      "---------------------\n",
      "product :  [한일] 엘린(ELIN) 올파이브 통오중(5PLY)냄비5종(10PCS)\n",
      "brand :  \n",
      "model :  \n",
      "maker :  한일스테인레스\n",
      "---------------------\n",
      "product :  [롯데아이몰] QR인증/매니아온  비비아나 스니커즈 1EQ156 Z32\n",
      "brand :  \n",
      "model :  기타\n",
      "maker :  기타\n",
      "---------------------\n",
      "product :  에뛰드하우스 핑크 생기 워터 세럼 80ml_수분 에센스\n",
      "brand :  \n",
      "model :  기타\n",
      "maker :  기타\n",
      "---------------------\n",
      "product :  미국산 와일드망고 배부른것처럼 (500mg x180개x10병)\n",
      "brand :  \n",
      "model :  기타\n",
      "maker :  기타\n",
      "---------------------\n",
      "product :  (라마즈)뮤지컬회전링쌓기\n",
      "brand :  라마즈\n",
      "model :  \n",
      "maker :  RC2\n",
      "---------------------\n",
      "product :  이케아 란사 손잡이 [스테인리스] 501.766.57\n",
      "brand :  이케아\n",
      "model :  \n",
      "maker :  이케아\n",
      "---------------------\n",
      "product :  NEW SPORTS 라벨버튼 커브캡[72CPS2831]\n",
      "brand :  MLB키즈\n",
      "model :  72CPS2831\n",
      "maker :  F&F\n",
      "---------------------\n"
     ]
    }
   ],
   "source": [
    "products = list_up_string_in_file('product')\n",
    "brands = list_up_string_in_file('brand')\n",
    "models = list_up_string_in_file('model')\n",
    "makers = list_up_string_in_file('maker')\n",
    "for p_name, b_name, m_name, ma_name in zip(products, brands, models, makers):\n",
    "    print(\"product : \", p_name)\n",
    "    print(\"brand : \", b_name)\n",
    "    print(\"model : \", m_name)\n",
    "    print(\"maker : \", ma_name)\n",
    "    print(\"---------------------\")"
   ]
  },
  {
   "cell_type": "markdown",
   "metadata": {},
   "source": [
    "### Price\n",
    "\n",
    "가격은 정수로 존재한다\n",
    "\n",
    "\n",
    "가설 1) \n",
    "> 존재하지 않은 경우, -1로 되어 있는 것으로 추정된다"
   ]
  },
  {
   "cell_type": "code",
   "execution_count": 6,
   "metadata": {},
   "outputs": [
    {
     "data": {
      "text/plain": [
       "[16520,\n",
       " 20370,\n",
       " -1,\n",
       " 16280,\n",
       " -1,\n",
       " -1,\n",
       " -1,\n",
       " -1,\n",
       " 30750,\n",
       " 25200,\n",
       " 24890,\n",
       " -1,\n",
       " 45300,\n",
       " 187800,\n",
       " -1,\n",
       " -1,\n",
       " -1,\n",
       " -1,\n",
       " 14400,\n",
       " -1]"
      ]
     },
     "execution_count": 6,
     "metadata": {},
     "output_type": "execute_result"
    }
   ],
   "source": [
    "list(f['train']['price'][:20])"
   ]
  },
  {
   "cell_type": "markdown",
   "metadata": {},
   "source": [
    "### updttm\t\n",
    "\n",
    "입력 시간은 중요하다고 느껴지지 않지만, 확인해볼 가치는 있다.\n",
    "\n",
    "가설\n",
    "> 20180227091029 : 2017년 02월 27일 09시 10분 29초 의 구조로 되어 있을 것이다"
   ]
  },
  {
   "cell_type": "code",
   "execution_count": 7,
   "metadata": {},
   "outputs": [
    {
     "name": "stdout",
     "output_type": "stream",
     "text": [
      "20180227091029\n",
      "20180429085019\n",
      "20180426102314\n",
      "20180422084512\n",
      "20180424071623\n",
      "20180426150317\n",
      "20180422222810\n",
      "20180420064936\n",
      "20180419090423\n",
      "20180401085848\n",
      "20180419201828\n",
      "20180410054511\n",
      "20180421084431\n",
      "20171123022655\n",
      "20180328024813\n",
      "20180322091807\n",
      "20180427064917\n",
      "20180402170347\n",
      "20180420085522\n",
      "20180426085358\n"
     ]
    }
   ],
   "source": [
    "updttms = list_up_string_in_file('updttm')\n",
    "for updttm in updttms :\n",
    "    print(updttm)"
   ]
  },
  {
   "cell_type": "markdown",
   "metadata": {},
   "source": [
    "### Category ID\n",
    "\n",
    "카테고리 아이디도 정수 값으로 존재한다\n",
    "\n",
    "가설 1) \n",
    "> 존재하지 않는 경우 -1로 되어 있는 것으로 추정된다.\n"
   ]
  },
  {
   "cell_type": "code",
   "execution_count": 8,
   "metadata": {},
   "outputs": [
    {
     "name": "stdout",
     "output_type": "stream",
     "text": [
      "[  대, 중,  소, 세]\n",
      "[  1,  1,  2, -1]\n",
      "[  3,  3,  4, -1]\n",
      "[  5,  5,  6, -1]\n",
      "[  7,  7,  8, -1]\n",
      "[ 10,  9, 11, -1]\n",
      "[ 11, 10, 12, -1]\n",
      "[ 12, 11, 13, -1]\n",
      "[ 13, 12, 14, -1]\n",
      "[ 14, 13, 15, -1]\n",
      "[ 11, 15, 17, -1]\n",
      "[ 11, 16, 18, -1]\n",
      "[ 14, 17, 19, -1]\n",
      "[ 15, 18, 20,  3]\n",
      "[ 16, 19, 21, -1]\n",
      "[ 17, 20, 22, -1]\n",
      "[ 18, 21, 23, -1]\n",
      "[ 19, 22, 24, -1]\n",
      "[  2, 23, 25, -1]\n",
      "[ 21, 25, 27, -1]\n",
      "[ 22, 26, 28, -1]\n"
     ]
    }
   ],
   "source": [
    "bcateids = list(f['train']['bcateid'][:20])\n",
    "mcateids = list(f['train']['mcateid'][:20])\n",
    "scateids = list(f['train']['scateid'][:20])\n",
    "dcateids = list(f['train']['dcateid'][:20])\n",
    "print(\"[  대, 중,  소, 세]\")\n",
    "for b_id, m_id, s_id, d_id in zip(bcateids, mcateids, scateids, dcateids):\n",
    "    print(\"[{:3d},{:3d},{:3d},{:3d}]\".format(b_id, m_id,s_id, d_id))\n",
    "    "
   ]
  },
  {
   "cell_type": "markdown",
   "metadata": {},
   "source": [
    "카테고리 정보는 따로 json 파일로 제공되었다."
   ]
  },
  {
   "cell_type": "code",
   "execution_count": 9,
   "metadata": {},
   "outputs": [],
   "source": [
    "json_data = open(os.path.join(RAW_DIR,'cate1.json')).read()\n",
    "data = json.loads(json_data)"
   ]
  },
  {
   "cell_type": "markdown",
   "metadata": {},
   "source": [
    "데이터는 key: 파일이름 - value : id로 구성되어 있는데, \n",
    "\n",
    "역으로 우리가 바꾸기 위해서는\n",
    "\n",
    "key와 value를 서로 반대로 바꾸어주는 게 편하다"
   ]
  },
  {
   "cell_type": "code",
   "execution_count": 10,
   "metadata": {},
   "outputs": [],
   "source": [
    "# b: 대분류 m: 중분류 s: 소분류 d: 세분류\n",
    "b_cate_map = {value : key for key, value in data['b'].items()}\n",
    "m_cate_map = {value : key for key, value in data['m'].items()}\n",
    "s_cate_map = {value : key for key, value in data['s'].items()}\n",
    "d_cate_map = {value : key for key, value in data['d'].items()}\n"
   ]
  },
  {
   "cell_type": "code",
   "execution_count": 11,
   "metadata": {},
   "outputs": [
    {
     "name": "stdout",
     "output_type": "stream",
     "text": [
      "[  대, 중,  소, 세]\n",
      "[악기/취미/만들기,보드게임/퍼즐,직소/퍼즐,]\n",
      "[휴대폰/액세서리,휴대폰액세서리,아이폰액세서리,]\n",
      "[언더웨어,보정언더웨어,속바지/속치마,]\n",
      "[남성의류,바지,일자면바지,]\n",
      "[건강관리/실버용품,건강측정용품,혈당지,]\n",
      "[홈/인테리어/가드닝,벽지/시트지/스티커,포인트스티커,]\n",
      "[등산/캠핑/낚시,취사용품,기타취사용품,]\n",
      "[구기/헬스/수영/스키,수영복,스포츠 비키니,]\n",
      "[가방/지갑/잡화,여성가방,여성 클러치백,]\n",
      "[홈/인테리어/가드닝,액자,액자세트,]\n",
      "[홈/인테리어/가드닝,인테리어 시계,벽시계,]\n",
      "[가방/지갑/잡화,지갑,명함/카드지갑,]\n",
      "[계절가전/에어컨/온열기기,난방기기,온풍기,전기온풍기]\n",
      "[주방/식기/용기,냄비/솥,냄비세트,]\n",
      "[신발/수제화,여성플랫슈즈/로퍼,플랫,]\n",
      "[스킨케어/메이크업,기능성화장품,영양보습,]\n",
      "[홍삼/건강/다이어트식품,다이어트식품,다이어트보조식,]\n",
      "[완구/교육/교구,퍼즐/감각발달완구,쌓기놀이,]\n",
      "[수납/정리/선반,가구부품,가구손잡이,]\n",
      "[유아동의류/신발/가방,패션소품,모자,]\n"
     ]
    }
   ],
   "source": [
    "print(\"[  대, 중,  소, 세]\")\n",
    "for b_id, m_id, s_id, d_id in zip(bcateids, mcateids, scateids, dcateids):\n",
    "    print(\"[{},{},{},{}]\".format(b_cate_map[b_id],\n",
    "                                 m_cate_map[m_id],\n",
    "                                 s_cate_map[s_id], \n",
    "                                 d_cate_map[d_id]))\n",
    "    "
   ]
  }
 ],
 "metadata": {
  "kernelspec": {
   "display_name": "Python 3",
   "language": "python",
   "name": "python3"
  },
  "language_info": {
   "codemirror_mode": {
    "name": "ipython",
    "version": 3
   },
   "file_extension": ".py",
   "mimetype": "text/x-python",
   "name": "python",
   "nbconvert_exporter": "python",
   "pygments_lexer": "ipython3",
   "version": "3.6.5"
  }
 },
 "nbformat": 4,
 "nbformat_minor": 2
}
